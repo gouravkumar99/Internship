{
 "cells": [
  {
   "cell_type": "code",
   "execution_count": 1,
   "id": "78d3e39f",
   "metadata": {},
   "outputs": [],
   "source": [
    "#import #  \n",
    "import time\n",
    "from selenium import webdriver\n",
    "# import chrome in webdriver\n",
    "from selenium.webdriver import Chrome\n",
    "#import pandas \n",
    "import pandas as pd\n",
    "#import selenium webdriver webdriver\n",
    "from selenium.webdriver.common.keys import Keys as key\n",
    "import warnings\n",
    "warnings.filterwarnings('ignore')"
   ]
  },
  {
   "cell_type": "code",
   "execution_count": 28,
   "id": "e6c20dfa",
   "metadata": {},
   "outputs": [],
   "source": [
    "doc = webdriver.Chrome(executable_path='chromedriver.exe')\n",
    "doc.get('https://www.flipkart.com/')\n",
    "doc.maximize_window()"
   ]
  },
  {
   "cell_type": "code",
   "execution_count": 6,
   "id": "098539f3",
   "metadata": {},
   "outputs": [],
   "source": [
    "links=[]"
   ]
  },
  {
   "cell_type": "code",
   "execution_count": 7,
   "id": "87d2651e",
   "metadata": {},
   "outputs": [],
   "source": [
    "def scrap_data(value):\n",
    "    doc.find_element_by_xpath('//input[@class=\"_3704LK\"]').send_keys(key.CONTROL + 'A' + key.BACKSPACE)\n",
    "    doc.find_element_by_xpath('//input[@class=\"_3704LK\"]').click()\n",
    "    time.sleep(1)\n",
    "    doc.find_element_by_xpath('//input[@class=\"_3704LK\"]').send_keys(value)\n",
    "    time.sleep(1)\n",
    "    doc.find_element_by_xpath('//button[@class=\"L0Z3Pu\"]').click()\n",
    "\n",
    "    val=1\n",
    "    i=1\n",
    "    while True:\n",
    "        try:\n",
    "            links.append(doc.find_element_by_xpath(f'//div[@class=\"_1YokD2 _3Mn1Gg\"]//div[@class=\"_1AtVbE col-12-12\"][{i}]//a').get_attribute('href'))\n",
    "            i=i+1\n",
    "        except:\n",
    "            try:\n",
    "                if val==10:\n",
    "                    break\n",
    "                else:\n",
    "                    if val==1:\n",
    "                        doc.find_element_by_xpath('//nav[@class=\"yFHi8N\"]//a[@class=\"_1LKTO3\"][1]//span').click()\n",
    "                        i=1\n",
    "                        val=val+1\n",
    "                    else:\n",
    "                        doc.find_element_by_xpath('//nav[@class=\"yFHi8N\"]//a[@class=\"_1LKTO3\"][2]//span').click()\n",
    "                        i=1\n",
    "                        val=val+1\n",
    "            except:\n",
    "                break\n"
   ]
  },
  {
   "cell_type": "code",
   "execution_count": 9,
   "id": "f93e2afd",
   "metadata": {},
   "outputs": [],
   "source": [
    "scrap_data('Phones')\n",
    "scrap_data('Headphones')\n",
    "scrap_data('smart watches')\n",
    "scrap_data('Cameras')\n",
    "scrap_data('Printers')\n",
    "scrap_data('Monitors')\n",
    "scrap_data('Home theater')\n",
    "scrap_data('Router')"
   ]
  },
  {
   "cell_type": "code",
   "execution_count": 46,
   "id": "8978e69c",
   "metadata": {},
   "outputs": [],
   "source": [
    "df = pd.DataFrame({'links':links})\n",
    "df.to_csv(r'E:\\nifty data\\links.csv')"
   ]
  },
  {
   "cell_type": "code",
   "execution_count": 29,
   "id": "6144c632",
   "metadata": {},
   "outputs": [],
   "source": [
    "links = pd.read_csv(r'E:\\nifty data\\links.csv')"
   ]
  },
  {
   "cell_type": "code",
   "execution_count": null,
   "id": "b7cd3dbf",
   "metadata": {},
   "outputs": [],
   "source": [
    "rating=[]\n",
    "review=[]\n",
    "\n",
    "for i in links['links']:\n",
    "    doc.get(i)\n",
    "    time.sleep(2)\n",
    "    try:\n",
    "        doc.find_element_by_xpath('//div[@class=\"col JOpGWq\"]//div[@class=\"_3UAT2v _16PBlm\"]//span').click()\n",
    "        time.sleep(2)\n",
    "    except:\n",
    "        continue\n",
    "    a = 2\n",
    "    val=1\n",
    "    while True:\n",
    "        if val==15:\n",
    "            break\n",
    "        else:\n",
    "            try:\n",
    "                rt = doc.find_element_by_xpath(f'//div[@class=\"_1YokD2 _3Mn1Gg col-9-12\"]//div[@class=\"_1AtVbE col-12-12\"][{a}]//div[@class=\"_3LWZlK _1BLPMq\"]').text\n",
    "                rw = doc.find_element_by_xpath(f'//div[@class=\"_1YokD2 _3Mn1Gg col-9-12\"]//div[@class=\"_1AtVbE col-12-12\"][{a}]//p[@class=\"_2-N8zT\"]').text\n",
    "                rating.append(rt)\n",
    "                review.append(rw)\n",
    "                a = a+15\n",
    "                \n",
    "            except:\n",
    "                try:\n",
    "                    url = doc.find_element_by_xpath('//nav[@class=\"yFHi8N\"]//a').get_attribute('href')\n",
    "                    doc.get(f\"{url.split('page=')[0]}page={val}\")\n",
    "                    a = 2\n",
    "                    val=val+1\n",
    "                    time.sleep(1)\n",
    "                except:\n",
    "                    break"
   ]
  },
  {
   "cell_type": "code",
   "execution_count": 31,
   "id": "36cde96b",
   "metadata": {},
   "outputs": [],
   "source": [
    "df = pd.DataFrame({'rating':rating,'review':review})"
   ]
  },
  {
   "cell_type": "code",
   "execution_count": 37,
   "id": "ee71e6a2",
   "metadata": {},
   "outputs": [],
   "source": [
    "df.to_csv(r'E:\\fliprobo\\review.csv')"
   ]
  },
  {
   "cell_type": "code",
   "execution_count": null,
   "id": "1c7e8cd5",
   "metadata": {},
   "outputs": [],
   "source": []
  },
  {
   "cell_type": "code",
   "execution_count": null,
   "id": "f7d22e23",
   "metadata": {},
   "outputs": [],
   "source": []
  },
  {
   "cell_type": "code",
   "execution_count": null,
   "id": "c365631d",
   "metadata": {},
   "outputs": [],
   "source": []
  },
  {
   "cell_type": "code",
   "execution_count": null,
   "id": "f6847536",
   "metadata": {},
   "outputs": [],
   "source": []
  },
  {
   "cell_type": "code",
   "execution_count": null,
   "id": "ac151dc5",
   "metadata": {},
   "outputs": [],
   "source": []
  },
  {
   "cell_type": "code",
   "execution_count": null,
   "id": "3bb00721",
   "metadata": {},
   "outputs": [],
   "source": []
  },
  {
   "cell_type": "code",
   "execution_count": null,
   "id": "05c26efe",
   "metadata": {},
   "outputs": [],
   "source": []
  },
  {
   "cell_type": "code",
   "execution_count": null,
   "id": "f5841ba3",
   "metadata": {},
   "outputs": [],
   "source": []
  }
 ],
 "metadata": {
  "kernelspec": {
   "display_name": "Python 3",
   "language": "python",
   "name": "python3"
  },
  "language_info": {
   "codemirror_mode": {
    "name": "ipython",
    "version": 3
   },
   "file_extension": ".py",
   "mimetype": "text/x-python",
   "name": "python",
   "nbconvert_exporter": "python",
   "pygments_lexer": "ipython3",
   "version": "3.8.8"
  },
  "varInspector": {
   "cols": {
    "lenName": 16,
    "lenType": 16,
    "lenVar": 40
   },
   "kernels_config": {
    "python": {
     "delete_cmd_postfix": "",
     "delete_cmd_prefix": "del ",
     "library": "var_list.py",
     "varRefreshCmd": "print(var_dic_list())"
    },
    "r": {
     "delete_cmd_postfix": ") ",
     "delete_cmd_prefix": "rm(",
     "library": "var_list.r",
     "varRefreshCmd": "cat(var_dic_list()) "
    }
   },
   "types_to_exclude": [
    "module",
    "function",
    "builtin_function_or_method",
    "instance",
    "_Feature"
   ],
   "window_display": false
  }
 },
 "nbformat": 4,
 "nbformat_minor": 5
}
