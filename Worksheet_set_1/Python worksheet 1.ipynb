{
 "cells": [
  {
   "cell_type": "markdown",
   "id": "d161cc8f",
   "metadata": {},
   "source": [
    "# 11. Write a python program to find the factorial of a number."
   ]
  },
  {
   "cell_type": "code",
   "execution_count": 9,
   "id": "0c64bfc5",
   "metadata": {},
   "outputs": [
    {
     "name": "stdout",
     "output_type": "stream",
     "text": [
      "Enter value 4\n",
      "24\n"
     ]
    }
   ],
   "source": [
    "# create a custom function for factorial number\n",
    "def factorial_num():\n",
    "    # create a variable enter any positive values  in this input\n",
    "    value =  int(input('Enter value '))\n",
    "    sum = 1\n",
    "    for i in range(1,value):\n",
    "        sum +=sum*i\n",
    "    # Print result  \n",
    "    print(sum)\n",
    "# call function\n",
    "factorial_num()"
   ]
  },
  {
   "cell_type": "code",
   "execution_count": null,
   "id": "cbe3aa5d",
   "metadata": {},
   "outputs": [],
   "source": []
  },
  {
   "cell_type": "markdown",
   "id": "3ec8cf1c",
   "metadata": {},
   "source": [
    "# 12.Write a python program to find whether a number is prime or composite."
   ]
  },
  {
   "cell_type": "code",
   "execution_count": 14,
   "id": "70191cd7",
   "metadata": {},
   "outputs": [
    {
     "name": "stdout",
     "output_type": "stream",
     "text": [
      "Enter value 45\n",
      "45 is not a prime number\n"
     ]
    }
   ],
   "source": [
    "# Check  primenumber\n",
    "# create a custom function for check prime number\n",
    "def prime_num():\n",
    "    # create a variable enter any values in this input\n",
    "    value = int(input('Enter value '))\n",
    "# Check given number is more than 1 \n",
    "    if value > 1:\n",
    "        for j in range(2, int(value/2) + 1):\n",
    "             # If the given number is divisible or not\n",
    "            if (value % j) == 0:\n",
    "                # Print Resut for num is not prime \n",
    "                print(f'{value} is not a prime number') \n",
    "                break\n",
    "        else:\n",
    "            # Print Resut for num is prime\n",
    "            print(f'{value} is a prime number')\n",
    "    else:\n",
    "        # Print Resut for num is prime \n",
    "        print(f'{value} is a prime number')\n",
    "\n",
    "# call function        \n",
    "prime_num()"
   ]
  },
  {
   "cell_type": "code",
   "execution_count": 23,
   "id": "1285ff93",
   "metadata": {},
   "outputs": [
    {
     "name": "stdout",
     "output_type": "stream",
     "text": [
      "Enter the number 12\n",
      "The number is a composite number\n"
     ]
    }
   ],
   "source": [
    "# Check composite number\n",
    "# create a custom function for check composite number\n",
    "def composite_num():\n",
    "    # create a variable enter any values in this input\n",
    "    values=int(input('Enter the number '))\n",
    "    factor=0\n",
    "    for i in range(1,values):\n",
    "      if values%i==0:\n",
    "        factor=i\n",
    "    if factor>1:\n",
    "       # Print Resut for num is composite     \n",
    "      print ('The number is a composite number')\n",
    "    elif values==1:\n",
    "      print ('The number 1 is neither prime nor composite')\n",
    "    else:\n",
    "      # Print Resut for num is not composite   \n",
    "      print ('This is not a composite number')\n",
    "\n",
    "# call function \n",
    "composite_num()"
   ]
  },
  {
   "cell_type": "markdown",
   "id": "ecbc0672",
   "metadata": {},
   "source": [
    "# 13. Write a python program to check whether a given string is palindrome or not."
   ]
  },
  {
   "cell_type": "code",
   "execution_count": 26,
   "id": "34880fa2",
   "metadata": {},
   "outputs": [
    {
     "name": "stdout",
     "output_type": "stream",
     "text": [
      "Enter the number NON\n",
      "This string is palindrome\n"
     ]
    }
   ],
   "source": [
    "# create a variable enter any values in this input\n",
    "values=input('Enter the number ')\n",
    "value2 = values[::-1]\n",
    "if value2 == values:\n",
    "    print('This string is palindrome')\n",
    "else:\n",
    "    print('This value is not palindrome')\n",
    "    "
   ]
  },
  {
   "cell_type": "markdown",
   "id": "3df39733",
   "metadata": {},
   "source": [
    "# 14. Write a Python program to get the third side of right-angled triangle from two given sides.\n"
   ]
  },
  {
   "cell_type": "code",
   "execution_count": 5,
   "id": "a75f804b",
   "metadata": {},
   "outputs": [
    {
     "name": "stdout",
     "output_type": "stream",
     "text": [
      "Enter opposite side10\n",
      "Enter adjacent side12\n",
      "Third Side of right-angled triangle = 15.620499351813308\n"
     ]
    }
   ],
   "source": [
    "# create a custom function for third Side of right-angled triangle \n",
    "def thidr_side_triangle():\n",
    "    # create a opposite_side input variable enter any values in this input\n",
    "    opposite_side = int(input('Enter opposite side'))\n",
    "    # create a adjacent_side input variable enter any values in this input\n",
    "    adjacent_side = int(input('Enter adjacent side'))\n",
    "    # create a Third_side variable and use this formul to give third side of right angled triangle\n",
    "    Third_side = (\"Third Side of right-angled triangle = \" + str(((opposite_side**2) + (adjacent_side**2))**0.5))\n",
    "    #print result\n",
    "    print(Third_side)\n",
    "    \n",
    "# call function \n",
    "thidr_side_triangle()"
   ]
  },
  {
   "cell_type": "code",
   "execution_count": null,
   "id": "37fc67ed",
   "metadata": {},
   "outputs": [],
   "source": []
  },
  {
   "cell_type": "markdown",
   "id": "a336a1a5",
   "metadata": {},
   "source": [
    "# 15. Write a python program to print the frequency of each of the characters present in a given string"
   ]
  },
  {
   "cell_type": "code",
   "execution_count": 32,
   "id": "e1372edd",
   "metadata": {},
   "outputs": [
    {
     "name": "stdout",
     "output_type": "stream",
     "text": [
      "Enter valuegoourav kumar\n",
      "{'g': 1, 'o': 2, 'u': 2, 'r': 2, 'a': 2, 'v': 1, ' ': 1, 'k': 1, 'm': 1}\n"
     ]
    }
   ],
   "source": [
    "# create a string input variable \n",
    "value = input('Enter value')\n",
    "# create a dictionary\n",
    "result = {}\n",
    "for i in value:\n",
    "    if i in result:\n",
    "        result[i] += 1\n",
    "    else:\n",
    "        result[i] = 1\n",
    "# print result\n",
    "print(result)"
   ]
  },
  {
   "cell_type": "code",
   "execution_count": null,
   "id": "59d856cf",
   "metadata": {},
   "outputs": [],
   "source": []
  }
 ],
 "metadata": {
  "kernelspec": {
   "display_name": "Python 3",
   "language": "python",
   "name": "python3"
  },
  "language_info": {
   "codemirror_mode": {
    "name": "ipython",
    "version": 3
   },
   "file_extension": ".py",
   "mimetype": "text/x-python",
   "name": "python",
   "nbconvert_exporter": "python",
   "pygments_lexer": "ipython3",
   "version": "3.8.8"
  },
  "varInspector": {
   "cols": {
    "lenName": 16,
    "lenType": 16,
    "lenVar": 40
   },
   "kernels_config": {
    "python": {
     "delete_cmd_postfix": "",
     "delete_cmd_prefix": "del ",
     "library": "var_list.py",
     "varRefreshCmd": "print(var_dic_list())"
    },
    "r": {
     "delete_cmd_postfix": ") ",
     "delete_cmd_prefix": "rm(",
     "library": "var_list.r",
     "varRefreshCmd": "cat(var_dic_list()) "
    }
   },
   "types_to_exclude": [
    "module",
    "function",
    "builtin_function_or_method",
    "instance",
    "_Feature"
   ],
   "window_display": false
  }
 },
 "nbformat": 4,
 "nbformat_minor": 5
}
