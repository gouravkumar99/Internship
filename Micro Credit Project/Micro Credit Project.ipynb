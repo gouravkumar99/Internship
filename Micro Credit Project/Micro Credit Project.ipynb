{
 "cells": [
  {
   "cell_type": "markdown",
   "id": "8147e3e7",
   "metadata": {},
   "source": [
    "# import python librarys"
   ]
  },
  {
   "cell_type": "code",
   "execution_count": 1,
   "id": "4f6f3735",
   "metadata": {},
   "outputs": [],
   "source": [
    "import pandas as pd\n",
    "from matplotlib import pyplot as plt\n",
    "import seaborn as sns\n",
    "from sklearn.feature_selection import SelectKBest\n",
    "from scipy.stats import chi2\n",
    "from sklearn.model_selection import train_test_split\n",
    "from sklearn.linear_model import LogisticRegression\n",
    "from sklearn.metrics import classification_report\n",
    "from sklearn.metrics import plot_roc_curve\n",
    "from sklearn.svm import SVC\n",
    "from sklearn.metrics import classification_report, confusion_matrix\n",
    "from sklearn.ensemble import RandomForestClassifier\n",
    "from sklearn.tree import DecisionTreeClassifier\n",
    "import warnings\n",
    "warnings.filterwarnings('ignore')"
   ]
  },
  {
   "cell_type": "markdown",
   "id": "6684bfcd",
   "metadata": {},
   "source": [
    "# Import CSV"
   ]
  },
  {
   "cell_type": "code",
   "execution_count": 2,
   "id": "7ca0ddca",
   "metadata": {},
   "outputs": [],
   "source": [
    "data = pd.read_csv('Data file.csv')"
   ]
  },
  {
   "cell_type": "markdown",
   "id": "e61fee81",
   "metadata": {},
   "source": [
    "# Data Exploration"
   ]
  },
  {
   "cell_type": "code",
   "execution_count": 3,
   "id": "f7182d93",
   "metadata": {},
   "outputs": [],
   "source": [
    "data=data.drop(data.columns[0], axis=1)\n",
    "data=data.drop(data.columns[34], axis=1)\n",
    "data[\"pdate\"] = pd.to_datetime(data[\"pdate\"])"
   ]
  },
  {
   "cell_type": "code",
   "execution_count": 4,
   "id": "9fafb2da",
   "metadata": {},
   "outputs": [
    {
     "data": {
      "text/html": [
       "<div>\n",
       "<style scoped>\n",
       "    .dataframe tbody tr th:only-of-type {\n",
       "        vertical-align: middle;\n",
       "    }\n",
       "\n",
       "    .dataframe tbody tr th {\n",
       "        vertical-align: top;\n",
       "    }\n",
       "\n",
       "    .dataframe thead th {\n",
       "        text-align: right;\n",
       "    }\n",
       "</style>\n",
       "<table border=\"1\" class=\"dataframe\">\n",
       "  <thead>\n",
       "    <tr style=\"text-align: right;\">\n",
       "      <th></th>\n",
       "      <th>label</th>\n",
       "      <th>msisdn</th>\n",
       "      <th>aon</th>\n",
       "      <th>daily_decr30</th>\n",
       "      <th>daily_decr90</th>\n",
       "      <th>rental30</th>\n",
       "      <th>rental90</th>\n",
       "      <th>last_rech_date_ma</th>\n",
       "      <th>last_rech_date_da</th>\n",
       "      <th>last_rech_amt_ma</th>\n",
       "      <th>...</th>\n",
       "      <th>amnt_loans30</th>\n",
       "      <th>maxamnt_loans30</th>\n",
       "      <th>medianamnt_loans30</th>\n",
       "      <th>cnt_loans90</th>\n",
       "      <th>amnt_loans90</th>\n",
       "      <th>maxamnt_loans90</th>\n",
       "      <th>medianamnt_loans90</th>\n",
       "      <th>payback30</th>\n",
       "      <th>payback90</th>\n",
       "      <th>pdate</th>\n",
       "    </tr>\n",
       "  </thead>\n",
       "  <tbody>\n",
       "    <tr>\n",
       "      <th>0</th>\n",
       "      <td>0</td>\n",
       "      <td>21408I70789</td>\n",
       "      <td>272.0</td>\n",
       "      <td>3055.050000</td>\n",
       "      <td>3065.150000</td>\n",
       "      <td>220.13</td>\n",
       "      <td>260.13</td>\n",
       "      <td>2.0</td>\n",
       "      <td>0.0</td>\n",
       "      <td>1539</td>\n",
       "      <td>...</td>\n",
       "      <td>12</td>\n",
       "      <td>6.0</td>\n",
       "      <td>0.0</td>\n",
       "      <td>2.0</td>\n",
       "      <td>12</td>\n",
       "      <td>6</td>\n",
       "      <td>0.0</td>\n",
       "      <td>29.000000</td>\n",
       "      <td>29.000000</td>\n",
       "      <td>2016-07-20</td>\n",
       "    </tr>\n",
       "    <tr>\n",
       "      <th>1</th>\n",
       "      <td>1</td>\n",
       "      <td>76462I70374</td>\n",
       "      <td>712.0</td>\n",
       "      <td>12122.000000</td>\n",
       "      <td>12124.750000</td>\n",
       "      <td>3691.26</td>\n",
       "      <td>3691.26</td>\n",
       "      <td>20.0</td>\n",
       "      <td>0.0</td>\n",
       "      <td>5787</td>\n",
       "      <td>...</td>\n",
       "      <td>12</td>\n",
       "      <td>12.0</td>\n",
       "      <td>0.0</td>\n",
       "      <td>1.0</td>\n",
       "      <td>12</td>\n",
       "      <td>12</td>\n",
       "      <td>0.0</td>\n",
       "      <td>0.000000</td>\n",
       "      <td>0.000000</td>\n",
       "      <td>2016-08-10</td>\n",
       "    </tr>\n",
       "    <tr>\n",
       "      <th>2</th>\n",
       "      <td>1</td>\n",
       "      <td>17943I70372</td>\n",
       "      <td>535.0</td>\n",
       "      <td>1398.000000</td>\n",
       "      <td>1398.000000</td>\n",
       "      <td>900.13</td>\n",
       "      <td>900.13</td>\n",
       "      <td>3.0</td>\n",
       "      <td>0.0</td>\n",
       "      <td>1539</td>\n",
       "      <td>...</td>\n",
       "      <td>6</td>\n",
       "      <td>6.0</td>\n",
       "      <td>0.0</td>\n",
       "      <td>1.0</td>\n",
       "      <td>6</td>\n",
       "      <td>6</td>\n",
       "      <td>0.0</td>\n",
       "      <td>0.000000</td>\n",
       "      <td>0.000000</td>\n",
       "      <td>2016-08-19</td>\n",
       "    </tr>\n",
       "    <tr>\n",
       "      <th>3</th>\n",
       "      <td>1</td>\n",
       "      <td>55773I70781</td>\n",
       "      <td>241.0</td>\n",
       "      <td>21.228000</td>\n",
       "      <td>21.228000</td>\n",
       "      <td>159.42</td>\n",
       "      <td>159.42</td>\n",
       "      <td>41.0</td>\n",
       "      <td>0.0</td>\n",
       "      <td>947</td>\n",
       "      <td>...</td>\n",
       "      <td>12</td>\n",
       "      <td>6.0</td>\n",
       "      <td>0.0</td>\n",
       "      <td>2.0</td>\n",
       "      <td>12</td>\n",
       "      <td>6</td>\n",
       "      <td>0.0</td>\n",
       "      <td>0.000000</td>\n",
       "      <td>0.000000</td>\n",
       "      <td>2016-06-06</td>\n",
       "    </tr>\n",
       "    <tr>\n",
       "      <th>4</th>\n",
       "      <td>1</td>\n",
       "      <td>03813I82730</td>\n",
       "      <td>947.0</td>\n",
       "      <td>150.619333</td>\n",
       "      <td>150.619333</td>\n",
       "      <td>1098.90</td>\n",
       "      <td>1098.90</td>\n",
       "      <td>4.0</td>\n",
       "      <td>0.0</td>\n",
       "      <td>2309</td>\n",
       "      <td>...</td>\n",
       "      <td>42</td>\n",
       "      <td>6.0</td>\n",
       "      <td>0.0</td>\n",
       "      <td>7.0</td>\n",
       "      <td>42</td>\n",
       "      <td>6</td>\n",
       "      <td>0.0</td>\n",
       "      <td>2.333333</td>\n",
       "      <td>2.333333</td>\n",
       "      <td>2016-06-22</td>\n",
       "    </tr>\n",
       "  </tbody>\n",
       "</table>\n",
       "<p>5 rows × 35 columns</p>\n",
       "</div>"
      ],
      "text/plain": [
       "   label       msisdn    aon  daily_decr30  daily_decr90  rental30  rental90  \\\n",
       "0      0  21408I70789  272.0   3055.050000   3065.150000    220.13    260.13   \n",
       "1      1  76462I70374  712.0  12122.000000  12124.750000   3691.26   3691.26   \n",
       "2      1  17943I70372  535.0   1398.000000   1398.000000    900.13    900.13   \n",
       "3      1  55773I70781  241.0     21.228000     21.228000    159.42    159.42   \n",
       "4      1  03813I82730  947.0    150.619333    150.619333   1098.90   1098.90   \n",
       "\n",
       "   last_rech_date_ma  last_rech_date_da  last_rech_amt_ma  ...  amnt_loans30  \\\n",
       "0                2.0                0.0              1539  ...            12   \n",
       "1               20.0                0.0              5787  ...            12   \n",
       "2                3.0                0.0              1539  ...             6   \n",
       "3               41.0                0.0               947  ...            12   \n",
       "4                4.0                0.0              2309  ...            42   \n",
       "\n",
       "   maxamnt_loans30  medianamnt_loans30  cnt_loans90  amnt_loans90  \\\n",
       "0              6.0                 0.0          2.0            12   \n",
       "1             12.0                 0.0          1.0            12   \n",
       "2              6.0                 0.0          1.0             6   \n",
       "3              6.0                 0.0          2.0            12   \n",
       "4              6.0                 0.0          7.0            42   \n",
       "\n",
       "   maxamnt_loans90  medianamnt_loans90  payback30  payback90      pdate  \n",
       "0                6                 0.0  29.000000  29.000000 2016-07-20  \n",
       "1               12                 0.0   0.000000   0.000000 2016-08-10  \n",
       "2                6                 0.0   0.000000   0.000000 2016-08-19  \n",
       "3                6                 0.0   0.000000   0.000000 2016-06-06  \n",
       "4                6                 0.0   2.333333   2.333333 2016-06-22  \n",
       "\n",
       "[5 rows x 35 columns]"
      ]
     },
     "execution_count": 4,
     "metadata": {},
     "output_type": "execute_result"
    }
   ],
   "source": [
    "#check first 5 rows\n",
    "data.head()"
   ]
  },
  {
   "cell_type": "code",
   "execution_count": 5,
   "id": "3f491b1e",
   "metadata": {},
   "outputs": [
    {
     "name": "stdout",
     "output_type": "stream",
     "text": [
      "<class 'pandas.core.frame.DataFrame'>\n",
      "RangeIndex: 209593 entries, 0 to 209592\n",
      "Data columns (total 35 columns):\n",
      " #   Column                Non-Null Count   Dtype         \n",
      "---  ------                --------------   -----         \n",
      " 0   label                 209593 non-null  int64         \n",
      " 1   msisdn                209593 non-null  object        \n",
      " 2   aon                   209593 non-null  float64       \n",
      " 3   daily_decr30          209593 non-null  float64       \n",
      " 4   daily_decr90          209593 non-null  float64       \n",
      " 5   rental30              209593 non-null  float64       \n",
      " 6   rental90              209593 non-null  float64       \n",
      " 7   last_rech_date_ma     209593 non-null  float64       \n",
      " 8   last_rech_date_da     209593 non-null  float64       \n",
      " 9   last_rech_amt_ma      209593 non-null  int64         \n",
      " 10  cnt_ma_rech30         209593 non-null  int64         \n",
      " 11  fr_ma_rech30          209593 non-null  float64       \n",
      " 12  sumamnt_ma_rech30     209593 non-null  float64       \n",
      " 13  medianamnt_ma_rech30  209593 non-null  float64       \n",
      " 14  medianmarechprebal30  209593 non-null  float64       \n",
      " 15  cnt_ma_rech90         209593 non-null  int64         \n",
      " 16  fr_ma_rech90          209593 non-null  int64         \n",
      " 17  sumamnt_ma_rech90     209593 non-null  int64         \n",
      " 18  medianamnt_ma_rech90  209593 non-null  float64       \n",
      " 19  medianmarechprebal90  209593 non-null  float64       \n",
      " 20  cnt_da_rech30         209593 non-null  float64       \n",
      " 21  fr_da_rech30          209593 non-null  float64       \n",
      " 22  cnt_da_rech90         209593 non-null  int64         \n",
      " 23  fr_da_rech90          209593 non-null  int64         \n",
      " 24  cnt_loans30           209593 non-null  int64         \n",
      " 25  amnt_loans30          209593 non-null  int64         \n",
      " 26  maxamnt_loans30       209593 non-null  float64       \n",
      " 27  medianamnt_loans30    209593 non-null  float64       \n",
      " 28  cnt_loans90           209593 non-null  float64       \n",
      " 29  amnt_loans90          209593 non-null  int64         \n",
      " 30  maxamnt_loans90       209593 non-null  int64         \n",
      " 31  medianamnt_loans90    209593 non-null  float64       \n",
      " 32  payback30             209593 non-null  float64       \n",
      " 33  payback90             209593 non-null  float64       \n",
      " 34  pdate                 209593 non-null  datetime64[ns]\n",
      "dtypes: datetime64[ns](1), float64(21), int64(12), object(1)\n",
      "memory usage: 56.0+ MB\n"
     ]
    }
   ],
   "source": [
    "#check information \n",
    "data.info()"
   ]
  },
  {
   "cell_type": "code",
   "execution_count": 6,
   "id": "e60f4c9c",
   "metadata": {},
   "outputs": [
    {
     "data": {
      "text/plain": [
       "label                   0\n",
       "msisdn                  0\n",
       "aon                     0\n",
       "daily_decr30            0\n",
       "daily_decr90            0\n",
       "rental30                0\n",
       "rental90                0\n",
       "last_rech_date_ma       0\n",
       "last_rech_date_da       0\n",
       "last_rech_amt_ma        0\n",
       "cnt_ma_rech30           0\n",
       "fr_ma_rech30            0\n",
       "sumamnt_ma_rech30       0\n",
       "medianamnt_ma_rech30    0\n",
       "medianmarechprebal30    0\n",
       "cnt_ma_rech90           0\n",
       "fr_ma_rech90            0\n",
       "sumamnt_ma_rech90       0\n",
       "medianamnt_ma_rech90    0\n",
       "medianmarechprebal90    0\n",
       "cnt_da_rech30           0\n",
       "fr_da_rech30            0\n",
       "cnt_da_rech90           0\n",
       "fr_da_rech90            0\n",
       "cnt_loans30             0\n",
       "amnt_loans30            0\n",
       "maxamnt_loans30         0\n",
       "medianamnt_loans30      0\n",
       "cnt_loans90             0\n",
       "amnt_loans90            0\n",
       "maxamnt_loans90         0\n",
       "medianamnt_loans90      0\n",
       "payback30               0\n",
       "payback90               0\n",
       "pdate                   0\n",
       "dtype: int64"
      ]
     },
     "execution_count": 6,
     "metadata": {},
     "output_type": "execute_result"
    },
    {
     "data": {
      "image/png": "[encoded data removed]",
      "text/plain": [
       "<Figure size 432x288 with 1 Axes>"
      ]
     },
     "metadata": {
      "needs_background": "light"
     },
     "output_type": "display_data"
    }
   ],
   "source": [
    "data.isna().sum().plot(kind=\"bar\")\n",
    "data.isnull().sum()"
   ]
  },
  {
   "cell_type": "code",
   "execution_count": 7,
   "id": "937aad2a",
   "metadata": {},
   "outputs": [
    {
     "data": {
      "text/plain": [
       "186243"
      ]
     },
     "execution_count": 7,
     "metadata": {},
     "output_type": "execute_result"
    }
   ],
   "source": [
    "#check unique value len from msisdn\n",
    "len(pd.unique(data[\"msisdn\"])) \n"
   ]
  },
  {
   "cell_type": "code",
   "execution_count": 8,
   "id": "81370743",
   "metadata": {},
   "outputs": [
    {
     "data": {
      "text/html": [
       "<div>\n",
       "<style scoped>\n",
       "    .dataframe tbody tr th:only-of-type {\n",
       "        vertical-align: middle;\n",
       "    }\n",
       "\n",
       "    .dataframe tbody tr th {\n",
       "        vertical-align: top;\n",
       "    }\n",
       "\n",
       "    .dataframe thead th {\n",
       "        text-align: right;\n",
       "    }\n",
       "</style>\n",
       "<table border=\"1\" class=\"dataframe\">\n",
       "  <thead>\n",
       "    <tr style=\"text-align: right;\">\n",
       "      <th></th>\n",
       "      <th>label</th>\n",
       "      <th>aon</th>\n",
       "      <th>daily_decr30</th>\n",
       "      <th>daily_decr90</th>\n",
       "      <th>rental30</th>\n",
       "      <th>rental90</th>\n",
       "      <th>last_rech_date_ma</th>\n",
       "      <th>last_rech_date_da</th>\n",
       "      <th>last_rech_amt_ma</th>\n",
       "      <th>cnt_ma_rech30</th>\n",
       "      <th>...</th>\n",
       "      <th>cnt_loans30</th>\n",
       "      <th>amnt_loans30</th>\n",
       "      <th>maxamnt_loans30</th>\n",
       "      <th>medianamnt_loans30</th>\n",
       "      <th>cnt_loans90</th>\n",
       "      <th>amnt_loans90</th>\n",
       "      <th>maxamnt_loans90</th>\n",
       "      <th>medianamnt_loans90</th>\n",
       "      <th>payback30</th>\n",
       "      <th>payback90</th>\n",
       "    </tr>\n",
       "  </thead>\n",
       "  <tbody>\n",
       "    <tr>\n",
       "      <th>count</th>\n",
       "      <td>209593.000000</td>\n",
       "      <td>209593.000000</td>\n",
       "      <td>209593.000000</td>\n",
       "      <td>209593.000000</td>\n",
       "      <td>209593.000000</td>\n",
       "      <td>209593.000000</td>\n",
       "      <td>209593.000000</td>\n",
       "      <td>209593.000000</td>\n",
       "      <td>209593.000000</td>\n",
       "      <td>209593.000000</td>\n",
       "      <td>...</td>\n",
       "      <td>209593.000000</td>\n",
       "      <td>209593.000000</td>\n",
       "      <td>209593.000000</td>\n",
       "      <td>209593.000000</td>\n",
       "      <td>209593.000000</td>\n",
       "      <td>209593.000000</td>\n",
       "      <td>209593.000000</td>\n",
       "      <td>209593.000000</td>\n",
       "      <td>209593.000000</td>\n",
       "      <td>209593.000000</td>\n",
       "    </tr>\n",
       "    <tr>\n",
       "      <th>mean</th>\n",
       "      <td>0.875177</td>\n",
       "      <td>8112.343445</td>\n",
       "      <td>5381.402289</td>\n",
       "      <td>6082.515068</td>\n",
       "      <td>2692.581910</td>\n",
       "      <td>3483.406534</td>\n",
       "      <td>3755.847800</td>\n",
       "      <td>3712.202921</td>\n",
       "      <td>2064.452797</td>\n",
       "      <td>3.978057</td>\n",
       "      <td>...</td>\n",
       "      <td>2.758981</td>\n",
       "      <td>17.952021</td>\n",
       "      <td>274.658747</td>\n",
       "      <td>0.054029</td>\n",
       "      <td>18.520919</td>\n",
       "      <td>23.645398</td>\n",
       "      <td>6.703134</td>\n",
       "      <td>0.046077</td>\n",
       "      <td>3.398826</td>\n",
       "      <td>4.321485</td>\n",
       "    </tr>\n",
       "    <tr>\n",
       "      <th>std</th>\n",
       "      <td>0.330519</td>\n",
       "      <td>75696.082531</td>\n",
       "      <td>9220.623400</td>\n",
       "      <td>10918.812767</td>\n",
       "      <td>4308.586781</td>\n",
       "      <td>5770.461279</td>\n",
       "      <td>53905.892230</td>\n",
       "      <td>53374.833430</td>\n",
       "      <td>2370.786034</td>\n",
       "      <td>4.256090</td>\n",
       "      <td>...</td>\n",
       "      <td>2.554502</td>\n",
       "      <td>17.379741</td>\n",
       "      <td>4245.264648</td>\n",
       "      <td>0.218039</td>\n",
       "      <td>224.797423</td>\n",
       "      <td>26.469861</td>\n",
       "      <td>2.103864</td>\n",
       "      <td>0.200692</td>\n",
       "      <td>8.813729</td>\n",
       "      <td>10.308108</td>\n",
       "    </tr>\n",
       "    <tr>\n",
       "      <th>min</th>\n",
       "      <td>0.000000</td>\n",
       "      <td>-48.000000</td>\n",
       "      <td>-93.012667</td>\n",
       "      <td>-93.012667</td>\n",
       "      <td>-23737.140000</td>\n",
       "      <td>-24720.580000</td>\n",
       "      <td>-29.000000</td>\n",
       "      <td>-29.000000</td>\n",
       "      <td>0.000000</td>\n",
       "      <td>0.000000</td>\n",
       "      <td>...</td>\n",
       "      <td>0.000000</td>\n",
       "      <td>0.000000</td>\n",
       "      <td>0.000000</td>\n",
       "      <td>0.000000</td>\n",
       "      <td>0.000000</td>\n",
       "      <td>0.000000</td>\n",
       "      <td>0.000000</td>\n",
       "      <td>0.000000</td>\n",
       "      <td>0.000000</td>\n",
       "      <td>0.000000</td>\n",
       "    </tr>\n",
       "    <tr>\n",
       "      <th>25%</th>\n",
       "      <td>1.000000</td>\n",
       "      <td>246.000000</td>\n",
       "      <td>42.440000</td>\n",
       "      <td>42.692000</td>\n",
       "      <td>280.420000</td>\n",
       "      <td>300.260000</td>\n",
       "      <td>1.000000</td>\n",
       "      <td>0.000000</td>\n",
       "      <td>770.000000</td>\n",
       "      <td>1.000000</td>\n",
       "      <td>...</td>\n",
       "      <td>1.000000</td>\n",
       "      <td>6.000000</td>\n",
       "      <td>6.000000</td>\n",
       "      <td>0.000000</td>\n",
       "      <td>1.000000</td>\n",
       "      <td>6.000000</td>\n",
       "      <td>6.000000</td>\n",
       "      <td>0.000000</td>\n",
       "      <td>0.000000</td>\n",
       "      <td>0.000000</td>\n",
       "    </tr>\n",
       "    <tr>\n",
       "      <th>50%</th>\n",
       "      <td>1.000000</td>\n",
       "      <td>527.000000</td>\n",
       "      <td>1469.175667</td>\n",
       "      <td>1500.000000</td>\n",
       "      <td>1083.570000</td>\n",
       "      <td>1334.000000</td>\n",
       "      <td>3.000000</td>\n",
       "      <td>0.000000</td>\n",
       "      <td>1539.000000</td>\n",
       "      <td>3.000000</td>\n",
       "      <td>...</td>\n",
       "      <td>2.000000</td>\n",
       "      <td>12.000000</td>\n",
       "      <td>6.000000</td>\n",
       "      <td>0.000000</td>\n",
       "      <td>2.000000</td>\n",
       "      <td>12.000000</td>\n",
       "      <td>6.000000</td>\n",
       "      <td>0.000000</td>\n",
       "      <td>0.000000</td>\n",
       "      <td>1.666667</td>\n",
       "    </tr>\n",
       "    <tr>\n",
       "      <th>75%</th>\n",
       "      <td>1.000000</td>\n",
       "      <td>982.000000</td>\n",
       "      <td>7244.000000</td>\n",
       "      <td>7802.790000</td>\n",
       "      <td>3356.940000</td>\n",
       "      <td>4201.790000</td>\n",
       "      <td>7.000000</td>\n",
       "      <td>0.000000</td>\n",
       "      <td>2309.000000</td>\n",
       "      <td>5.000000</td>\n",
       "      <td>...</td>\n",
       "      <td>4.000000</td>\n",
       "      <td>24.000000</td>\n",
       "      <td>6.000000</td>\n",
       "      <td>0.000000</td>\n",
       "      <td>5.000000</td>\n",
       "      <td>30.000000</td>\n",
       "      <td>6.000000</td>\n",
       "      <td>0.000000</td>\n",
       "      <td>3.750000</td>\n",
       "      <td>4.500000</td>\n",
       "    </tr>\n",
       "    <tr>\n",
       "      <th>max</th>\n",
       "      <td>1.000000</td>\n",
       "      <td>999860.755168</td>\n",
       "      <td>265926.000000</td>\n",
       "      <td>320630.000000</td>\n",
       "      <td>198926.110000</td>\n",
       "      <td>200148.110000</td>\n",
       "      <td>998650.377733</td>\n",
       "      <td>999171.809410</td>\n",
       "      <td>55000.000000</td>\n",
       "      <td>203.000000</td>\n",
       "      <td>...</td>\n",
       "      <td>50.000000</td>\n",
       "      <td>306.000000</td>\n",
       "      <td>99864.560864</td>\n",
       "      <td>3.000000</td>\n",
       "      <td>4997.517944</td>\n",
       "      <td>438.000000</td>\n",
       "      <td>12.000000</td>\n",
       "      <td>3.000000</td>\n",
       "      <td>171.500000</td>\n",
       "      <td>171.500000</td>\n",
       "    </tr>\n",
       "  </tbody>\n",
       "</table>\n",
       "<p>8 rows × 33 columns</p>\n",
       "</div>"
      ],
      "text/plain": [
       "               label            aon   daily_decr30   daily_decr90  \\\n",
       "count  209593.000000  209593.000000  209593.000000  209593.000000   \n",
       "mean        0.875177    8112.343445    5381.402289    6082.515068   \n",
       "std         0.330519   75696.082531    9220.623400   10918.812767   \n",
       "min         0.000000     -48.000000     -93.012667     -93.012667   \n",
       "25%         1.000000     246.000000      42.440000      42.692000   \n",
       "50%         1.000000     527.000000    1469.175667    1500.000000   \n",
       "75%         1.000000     982.000000    7244.000000    7802.790000   \n",
       "max         1.000000  999860.755168  265926.000000  320630.000000   \n",
       "\n",
       "            rental30       rental90  last_rech_date_ma  last_rech_date_da  \\\n",
       "count  209593.000000  209593.000000      209593.000000      209593.000000   \n",
       "mean     2692.581910    3483.406534        3755.847800        3712.202921   \n",
       "std      4308.586781    5770.461279       53905.892230       53374.833430   \n",
       "min    -23737.140000  -24720.580000         -29.000000         -29.000000   \n",
       "25%       280.420000     300.260000           1.000000           0.000000   \n",
       "50%      1083.570000    1334.000000           3.000000           0.000000   \n",
       "75%      3356.940000    4201.790000           7.000000           0.000000   \n",
       "max    198926.110000  200148.110000      998650.377733      999171.809410   \n",
       "\n",
       "       last_rech_amt_ma  cnt_ma_rech30  ...    cnt_loans30   amnt_loans30  \\\n",
       "count     209593.000000  209593.000000  ...  209593.000000  209593.000000   \n",
       "mean        2064.452797       3.978057  ...       2.758981      17.952021   \n",
       "std         2370.786034       4.256090  ...       2.554502      17.379741   \n",
       "min            0.000000       0.000000  ...       0.000000       0.000000   \n",
       "25%          770.000000       1.000000  ...       1.000000       6.000000   \n",
       "50%         1539.000000       3.000000  ...       2.000000      12.000000   \n",
       "75%         2309.000000       5.000000  ...       4.000000      24.000000   \n",
       "max        55000.000000     203.000000  ...      50.000000     306.000000   \n",
       "\n",
       "       maxamnt_loans30  medianamnt_loans30    cnt_loans90   amnt_loans90  \\\n",
       "count    209593.000000       209593.000000  209593.000000  209593.000000   \n",
       "mean        274.658747            0.054029      18.520919      23.645398   \n",
       "std        4245.264648            0.218039     224.797423      26.469861   \n",
       "min           0.000000            0.000000       0.000000       0.000000   \n",
       "25%           6.000000            0.000000       1.000000       6.000000   \n",
       "50%           6.000000            0.000000       2.000000      12.000000   \n",
       "75%           6.000000            0.000000       5.000000      30.000000   \n",
       "max       99864.560864            3.000000    4997.517944     438.000000   \n",
       "\n",
       "       maxamnt_loans90  medianamnt_loans90      payback30      payback90  \n",
       "count    209593.000000       209593.000000  209593.000000  209593.000000  \n",
       "mean          6.703134            0.046077       3.398826       4.321485  \n",
       "std           2.103864            0.200692       8.813729      10.308108  \n",
       "min           0.000000            0.000000       0.000000       0.000000  \n",
       "25%           6.000000            0.000000       0.000000       0.000000  \n",
       "50%           6.000000            0.000000       0.000000       1.666667  \n",
       "75%           6.000000            0.000000       3.750000       4.500000  \n",
       "max          12.000000            3.000000     171.500000     171.500000  \n",
       "\n",
       "[8 rows x 33 columns]"
      ]
     },
     "execution_count": 8,
     "metadata": {},
     "output_type": "execute_result"
    }
   ],
   "source": [
    "#describe\n",
    "data.describe()"
   ]
  },
  {
   "cell_type": "code",
   "execution_count": 9,
   "id": "9b2db8e3",
   "metadata": {},
   "outputs": [
    {
     "data": {
      "text/plain": [
       "Index(['label', 'msisdn', 'aon', 'daily_decr30', 'daily_decr90', 'rental30',\n",
       "       'rental90', 'last_rech_date_ma', 'last_rech_date_da',\n",
       "       'last_rech_amt_ma', 'cnt_ma_rech30', 'fr_ma_rech30',\n",
       "       'sumamnt_ma_rech30', 'medianamnt_ma_rech30', 'medianmarechprebal30',\n",
       "       'cnt_ma_rech90', 'fr_ma_rech90', 'sumamnt_ma_rech90',\n",
       "       'medianamnt_ma_rech90', 'medianmarechprebal90', 'cnt_da_rech30',\n",
       "       'fr_da_rech30', 'cnt_da_rech90', 'fr_da_rech90', 'cnt_loans30',\n",
       "       'amnt_loans30', 'maxamnt_loans30', 'medianamnt_loans30', 'cnt_loans90',\n",
       "       'amnt_loans90', 'maxamnt_loans90', 'medianamnt_loans90', 'payback30',\n",
       "       'payback90', 'pdate'],\n",
       "      dtype='object')"
      ]
     },
     "execution_count": 9,
     "metadata": {},
     "output_type": "execute_result"
    }
   ],
   "source": [
    "col_names=data.columns\n",
    "col_names"
   ]
  },
  {
   "cell_type": "code",
   "execution_count": 10,
   "id": "3d3a7c52",
   "metadata": {},
   "outputs": [
    {
     "data": {
      "text/plain": [
       "{'whiskers': [<matplotlib.lines.Line2D at 0x206b57ab9a0>,\n",
       "  <matplotlib.lines.Line2D at 0x206b57abd00>],\n",
       " 'caps': [<matplotlib.lines.Line2D at 0x206b57b60a0>,\n",
       "  <matplotlib.lines.Line2D at 0x206b57b6400>],\n",
       " 'boxes': [<matplotlib.lines.Line2D at 0x206b57ab640>],\n",
       " 'medians': [<matplotlib.lines.Line2D at 0x206b57b6760>],\n",
       " 'fliers': [<matplotlib.lines.Line2D at 0x206b57b6ac0>],\n",
       " 'means': []}"
      ]
     },
     "execution_count": 10,
     "metadata": {},
     "output_type": "execute_result"
    },
    {
     "data": {
      "image/png": "[encoded data removed]",
      "text/plain": [
       "<Figure size 432x288 with 1 Axes>"
      ]
     },
     "metadata": {
      "needs_background": "light"
     },
     "output_type": "display_data"
    }
   ],
   "source": [
    "fig,ax=plt.subplots()\n",
    "ax.boxplot(data[\"fr_da_rech90\"])"
   ]
  },
  {
   "cell_type": "code",
   "execution_count": 11,
   "id": "ba37aa7a",
   "metadata": {},
   "outputs": [
    {
     "data": {
      "text/plain": [
       "0"
      ]
     },
     "execution_count": 11,
     "metadata": {},
     "output_type": "execute_result"
    }
   ],
   "source": [
    "data[\"fr_da_rech90\"].min()"
   ]
  },
  {
   "cell_type": "markdown",
   "id": "e399f703",
   "metadata": {},
   "source": [
    "# Data Cleaning"
   ]
  },
  {
   "cell_type": "code",
   "execution_count": 12,
   "id": "3eca11e3",
   "metadata": {},
   "outputs": [
    {
     "name": "stdout",
     "output_type": "stream",
     "text": [
      "183431\n",
      "26162\n"
     ]
    },
    {
     "data": {
      "text/plain": [
       "209593"
      ]
     },
     "execution_count": 12,
     "metadata": {},
     "output_type": "execute_result"
    }
   ],
   "source": [
    "print(sum(data['label']==1))\n",
    "print(sum(data['label']==0))\n",
    "len(data.index)"
   ]
  },
  {
   "cell_type": "code",
   "execution_count": null,
   "id": "c62f0394",
   "metadata": {},
   "outputs": [],
   "source": []
  },
  {
   "cell_type": "markdown",
   "id": "c47f2c6f",
   "metadata": {},
   "source": [
    "# Data Visualization"
   ]
  },
  {
   "cell_type": "code",
   "execution_count": 13,
   "id": "9ee1c43e",
   "metadata": {},
   "outputs": [
    {
     "data": {
      "image/png": "[encoded data removed]",
      "text/plain": [
       "<Figure size 360x360 with 1 Axes>"
      ]
     },
     "metadata": {
      "needs_background": "light"
     },
     "output_type": "display_data"
    }
   ],
   "source": [
    "g=sns.catplot(x=\"label\",data=data,kind=\"count\",palette=\"PRGn\",alpha=1)\n",
    "g.set(xlabel=\"Label\",ylabel=\"Count\")\n",
    "plt.show()"
   ]
  },
  {
   "cell_type": "code",
   "execution_count": null,
   "id": "2b4b7c6f",
   "metadata": {},
   "outputs": [],
   "source": []
  },
  {
   "cell_type": "code",
   "execution_count": 14,
   "id": "c03fa941",
   "metadata": {},
   "outputs": [
    {
     "data": {
      "text/plain": [
       "21"
      ]
     },
     "execution_count": 14,
     "metadata": {},
     "output_type": "execute_result"
    }
   ],
   "source": [
    "colnames=[\"label\",\"sumamnt_ma_rech90\",\"daily_decr90\",\"sumamnt_ma_rech30\",\"daily_decr30\",\"rental90\",\"medianamnt_ma_rech30\",\"last_rech_amt_ma\",\"medianamnt_ma_rech90\",\"rental30\",\"medianmarechprebal30\",\"aon\",\"medianmarechprebal90\",\"amnt_loans90\",\"cnt_da_rech30\",\"amnt_loans30\",\"cnt_ma_rech90\",\"cnt_ma_rech30\",\"last_rech_date_ma\",\"fr_ma_rech30\",\"fr_ma_rech90\"]\n",
    "len(colnames)"
   ]
  },
  {
   "cell_type": "markdown",
   "id": "1d5ad1d7",
   "metadata": {},
   "source": [
    "# Visualizing the distribution of each variable"
   ]
  },
  {
   "cell_type": "code",
   "execution_count": 15,
   "id": "3b47304d",
   "metadata": {},
   "outputs": [
    {
     "data": {
      "image/png": "[encoded data removed]",
      "text/plain": [
       "<Figure size 432x288 with 12 Axes>"
      ]
     },
     "metadata": {
      "needs_background": "light"
     },
     "output_type": "display_data"
    }
   ],
   "source": [
    "hist = data.iloc[:,0:12].hist()"
   ]
  },
  {
   "cell_type": "code",
   "execution_count": 16,
   "id": "cb304c79",
   "metadata": {},
   "outputs": [
    {
     "data": {
      "image/png": "[encoded data removed]",
      "text/plain": [
       "<Figure size 432x288 with 16 Axes>"
      ]
     },
     "metadata": {
      "needs_background": "light"
     },
     "output_type": "display_data"
    }
   ],
   "source": [
    "hist = data.iloc[:,12:25].hist()"
   ]
  },
  {
   "cell_type": "code",
   "execution_count": 17,
   "id": "7396a110",
   "metadata": {},
   "outputs": [
    {
     "data": {
      "image/png": "[encoded data removed]",
      "text/plain": [
       "<Figure size 432x288 with 12 Axes>"
      ]
     },
     "metadata": {
      "needs_background": "light"
     },
     "output_type": "display_data"
    }
   ],
   "source": [
    "hist = data.iloc[:,25:35].hist()"
   ]
  },
  {
   "cell_type": "code",
   "execution_count": 18,
   "id": "92db97d5",
   "metadata": {},
   "outputs": [
    {
     "name": "stdout",
     "output_type": "stream",
     "text": [
      "<class 'pandas.core.frame.DataFrame'>\n",
      "RangeIndex: 209593 entries, 0 to 209592\n",
      "Data columns (total 35 columns):\n",
      " #   Column                Non-Null Count   Dtype         \n",
      "---  ------                --------------   -----         \n",
      " 0   label                 209593 non-null  int64         \n",
      " 1   msisdn                209593 non-null  object        \n",
      " 2   aon                   209593 non-null  float64       \n",
      " 3   daily_decr30          209593 non-null  float64       \n",
      " 4   daily_decr90          209593 non-null  float64       \n",
      " 5   rental30              209593 non-null  float64       \n",
      " 6   rental90              209593 non-null  float64       \n",
      " 7   last_rech_date_ma     209593 non-null  float64       \n",
      " 8   last_rech_date_da     209593 non-null  float64       \n",
      " 9   last_rech_amt_ma      209593 non-null  int64         \n",
      " 10  cnt_ma_rech30         209593 non-null  int64         \n",
      " 11  fr_ma_rech30          209593 non-null  float64       \n",
      " 12  sumamnt_ma_rech30     209593 non-null  float64       \n",
      " 13  medianamnt_ma_rech30  209593 non-null  float64       \n",
      " 14  medianmarechprebal30  209593 non-null  float64       \n",
      " 15  cnt_ma_rech90         209593 non-null  int64         \n",
      " 16  fr_ma_rech90          209593 non-null  int64         \n",
      " 17  sumamnt_ma_rech90     209593 non-null  int64         \n",
      " 18  medianamnt_ma_rech90  209593 non-null  float64       \n",
      " 19  medianmarechprebal90  209593 non-null  float64       \n",
      " 20  cnt_da_rech30         209593 non-null  float64       \n",
      " 21  fr_da_rech30          209593 non-null  float64       \n",
      " 22  cnt_da_rech90         209593 non-null  int64         \n",
      " 23  fr_da_rech90          209593 non-null  int64         \n",
      " 24  cnt_loans30           209593 non-null  int64         \n",
      " 25  amnt_loans30          209593 non-null  int64         \n",
      " 26  maxamnt_loans30       209593 non-null  float64       \n",
      " 27  medianamnt_loans30    209593 non-null  float64       \n",
      " 28  cnt_loans90           209593 non-null  float64       \n",
      " 29  amnt_loans90          209593 non-null  int64         \n",
      " 30  maxamnt_loans90       209593 non-null  int64         \n",
      " 31  medianamnt_loans90    209593 non-null  float64       \n",
      " 32  payback30             209593 non-null  float64       \n",
      " 33  payback90             209593 non-null  float64       \n",
      " 34  pdate                 209593 non-null  datetime64[ns]\n",
      "dtypes: datetime64[ns](1), float64(21), int64(12), object(1)\n",
      "memory usage: 56.0+ MB\n"
     ]
    }
   ],
   "source": [
    "data.info()"
   ]
  },
  {
   "cell_type": "code",
   "execution_count": 19,
   "id": "7924608f",
   "metadata": {
    "scrolled": true
   },
   "outputs": [
    {
     "data": {
      "text/html": [
       "<div>\n",
       "<style scoped>\n",
       "    .dataframe tbody tr th:only-of-type {\n",
       "        vertical-align: middle;\n",
       "    }\n",
       "\n",
       "    .dataframe tbody tr th {\n",
       "        vertical-align: top;\n",
       "    }\n",
       "\n",
       "    .dataframe thead th {\n",
       "        text-align: right;\n",
       "    }\n",
       "</style>\n",
       "<table border=\"1\" class=\"dataframe\">\n",
       "  <thead>\n",
       "    <tr style=\"text-align: right;\">\n",
       "      <th></th>\n",
       "      <th>sumamnt_ma_rech90</th>\n",
       "      <th>daily_decr90</th>\n",
       "      <th>sumamnt_ma_rech30</th>\n",
       "      <th>daily_decr30</th>\n",
       "      <th>rental90</th>\n",
       "      <th>medianamnt_ma_rech30</th>\n",
       "      <th>last_rech_amt_ma</th>\n",
       "      <th>medianamnt_ma_rech90</th>\n",
       "      <th>rental30</th>\n",
       "      <th>medianmarechprebal30</th>\n",
       "      <th>aon</th>\n",
       "      <th>medianmarechprebal90</th>\n",
       "      <th>amnt_loans90</th>\n",
       "      <th>cnt_da_rech30</th>\n",
       "      <th>amnt_loans30</th>\n",
       "      <th>cnt_ma_rech90</th>\n",
       "      <th>cnt_ma_rech30</th>\n",
       "      <th>last_rech_date_ma</th>\n",
       "      <th>fr_ma_rech30</th>\n",
       "      <th>fr_ma_rech90</th>\n",
       "    </tr>\n",
       "  </thead>\n",
       "  <tbody>\n",
       "    <tr>\n",
       "      <th>0</th>\n",
       "      <td>3078</td>\n",
       "      <td>3065.150000</td>\n",
       "      <td>3078.0</td>\n",
       "      <td>3055.050000</td>\n",
       "      <td>260.13</td>\n",
       "      <td>1539.0</td>\n",
       "      <td>1539</td>\n",
       "      <td>1539.0</td>\n",
       "      <td>220.13</td>\n",
       "      <td>7.50</td>\n",
       "      <td>272.0</td>\n",
       "      <td>7.50</td>\n",
       "      <td>12</td>\n",
       "      <td>0.0</td>\n",
       "      <td>12</td>\n",
       "      <td>2</td>\n",
       "      <td>2</td>\n",
       "      <td>2.0</td>\n",
       "      <td>21.0</td>\n",
       "      <td>21</td>\n",
       "    </tr>\n",
       "    <tr>\n",
       "      <th>1</th>\n",
       "      <td>5787</td>\n",
       "      <td>12124.750000</td>\n",
       "      <td>5787.0</td>\n",
       "      <td>12122.000000</td>\n",
       "      <td>3691.26</td>\n",
       "      <td>5787.0</td>\n",
       "      <td>5787</td>\n",
       "      <td>5787.0</td>\n",
       "      <td>3691.26</td>\n",
       "      <td>61.04</td>\n",
       "      <td>712.0</td>\n",
       "      <td>61.04</td>\n",
       "      <td>12</td>\n",
       "      <td>0.0</td>\n",
       "      <td>12</td>\n",
       "      <td>1</td>\n",
       "      <td>1</td>\n",
       "      <td>20.0</td>\n",
       "      <td>0.0</td>\n",
       "      <td>0</td>\n",
       "    </tr>\n",
       "    <tr>\n",
       "      <th>2</th>\n",
       "      <td>1539</td>\n",
       "      <td>1398.000000</td>\n",
       "      <td>1539.0</td>\n",
       "      <td>1398.000000</td>\n",
       "      <td>900.13</td>\n",
       "      <td>1539.0</td>\n",
       "      <td>1539</td>\n",
       "      <td>1539.0</td>\n",
       "      <td>900.13</td>\n",
       "      <td>66.32</td>\n",
       "      <td>535.0</td>\n",
       "      <td>66.32</td>\n",
       "      <td>6</td>\n",
       "      <td>0.0</td>\n",
       "      <td>6</td>\n",
       "      <td>1</td>\n",
       "      <td>1</td>\n",
       "      <td>3.0</td>\n",
       "      <td>0.0</td>\n",
       "      <td>0</td>\n",
       "    </tr>\n",
       "    <tr>\n",
       "      <th>3</th>\n",
       "      <td>947</td>\n",
       "      <td>21.228000</td>\n",
       "      <td>0.0</td>\n",
       "      <td>21.228000</td>\n",
       "      <td>159.42</td>\n",
       "      <td>0.0</td>\n",
       "      <td>947</td>\n",
       "      <td>947.0</td>\n",
       "      <td>159.42</td>\n",
       "      <td>0.00</td>\n",
       "      <td>241.0</td>\n",
       "      <td>2.50</td>\n",
       "      <td>12</td>\n",
       "      <td>0.0</td>\n",
       "      <td>12</td>\n",
       "      <td>1</td>\n",
       "      <td>0</td>\n",
       "      <td>41.0</td>\n",
       "      <td>0.0</td>\n",
       "      <td>0</td>\n",
       "    </tr>\n",
       "    <tr>\n",
       "      <th>4</th>\n",
       "      <td>23496</td>\n",
       "      <td>150.619333</td>\n",
       "      <td>20029.0</td>\n",
       "      <td>150.619333</td>\n",
       "      <td>1098.90</td>\n",
       "      <td>2309.0</td>\n",
       "      <td>2309</td>\n",
       "      <td>2888.0</td>\n",
       "      <td>1098.90</td>\n",
       "      <td>29.00</td>\n",
       "      <td>947.0</td>\n",
       "      <td>35.00</td>\n",
       "      <td>42</td>\n",
       "      <td>0.0</td>\n",
       "      <td>42</td>\n",
       "      <td>8</td>\n",
       "      <td>7</td>\n",
       "      <td>4.0</td>\n",
       "      <td>2.0</td>\n",
       "      <td>2</td>\n",
       "    </tr>\n",
       "  </tbody>\n",
       "</table>\n",
       "</div>"
      ],
      "text/plain": [
       "   sumamnt_ma_rech90  daily_decr90  sumamnt_ma_rech30  daily_decr30  rental90  \\\n",
       "0               3078   3065.150000             3078.0   3055.050000    260.13   \n",
       "1               5787  12124.750000             5787.0  12122.000000   3691.26   \n",
       "2               1539   1398.000000             1539.0   1398.000000    900.13   \n",
       "3                947     21.228000                0.0     21.228000    159.42   \n",
       "4              23496    150.619333            20029.0    150.619333   1098.90   \n",
       "\n",
       "   medianamnt_ma_rech30  last_rech_amt_ma  medianamnt_ma_rech90  rental30  \\\n",
       "0                1539.0              1539                1539.0    220.13   \n",
       "1                5787.0              5787                5787.0   3691.26   \n",
       "2                1539.0              1539                1539.0    900.13   \n",
       "3                   0.0               947                 947.0    159.42   \n",
       "4                2309.0              2309                2888.0   1098.90   \n",
       "\n",
       "   medianmarechprebal30    aon  medianmarechprebal90  amnt_loans90  \\\n",
       "0                  7.50  272.0                  7.50            12   \n",
       "1                 61.04  712.0                 61.04            12   \n",
       "2                 66.32  535.0                 66.32             6   \n",
       "3                  0.00  241.0                  2.50            12   \n",
       "4                 29.00  947.0                 35.00            42   \n",
       "\n",
       "   cnt_da_rech30  amnt_loans30  cnt_ma_rech90  cnt_ma_rech30  \\\n",
       "0            0.0            12              2              2   \n",
       "1            0.0            12              1              1   \n",
       "2            0.0             6              1              1   \n",
       "3            0.0            12              1              0   \n",
       "4            0.0            42              8              7   \n",
       "\n",
       "   last_rech_date_ma  fr_ma_rech30  fr_ma_rech90  \n",
       "0                2.0          21.0            21  \n",
       "1               20.0           0.0             0  \n",
       "2                3.0           0.0             0  \n",
       "3               41.0           0.0             0  \n",
       "4                4.0           2.0             2  "
      ]
     },
     "execution_count": 19,
     "metadata": {},
     "output_type": "execute_result"
    }
   ],
   "source": [
    "### Filter dataframe to use only important features\n",
    "df=data[colnames]   #includes Target variable \"Label\"\n",
    "df1=df.iloc[:,1:]   #does not include Target variable \"Label\"\n",
    "df1.head()"
   ]
  },
  {
   "cell_type": "code",
   "execution_count": null,
   "id": "560bd0e2",
   "metadata": {},
   "outputs": [],
   "source": []
  },
  {
   "cell_type": "markdown",
   "id": "13be9a82",
   "metadata": {},
   "source": [
    "# Normalizing data"
   ]
  },
  {
   "cell_type": "code",
   "execution_count": 20,
   "id": "f28a2d9c",
   "metadata": {},
   "outputs": [],
   "source": [
    "from sklearn.preprocessing import MinMaxScaler\n",
    "\n",
    "scaler = MinMaxScaler() \n",
    "scaled_values = scaler.fit_transform(df1) \n",
    "df1.loc[:,:] = scaled_values"
   ]
  },
  {
   "cell_type": "code",
   "execution_count": 21,
   "id": "39ca37ee",
   "metadata": {},
   "outputs": [],
   "source": [
    "X=data.iloc[:,2:34]\n",
    "Y=data.iloc[:,0]"
   ]
  },
  {
   "cell_type": "markdown",
   "id": "68259c4d",
   "metadata": {},
   "source": [
    "# Define the independent and dependent variable"
   ]
  },
  {
   "cell_type": "markdown",
   "id": "977d5ad3",
   "metadata": {},
   "source": [
    "# Build Models"
   ]
  },
  {
   "cell_type": "code",
   "execution_count": 22,
   "id": "f3b7d55c",
   "metadata": {},
   "outputs": [],
   "source": [
    "#Split data\n",
    "X_train, X_test, y_train, y_test = train_test_split(X, Y, test_size = 0.3, random_state = 0) "
   ]
  },
  {
   "cell_type": "markdown",
   "id": "b0a3cdd8",
   "metadata": {},
   "source": [
    "# Logistic Regression"
   ]
  },
  {
   "cell_type": "code",
   "execution_count": null,
   "id": "9008effa",
   "metadata": {},
   "outputs": [],
   "source": []
  },
  {
   "cell_type": "code",
   "execution_count": 23,
   "id": "50bb773b",
   "metadata": {},
   "outputs": [
    {
     "name": "stdout",
     "output_type": "stream",
     "text": [
      "              precision    recall  f1-score   support\n",
      "\n",
      "           0       0.53      0.16      0.25      7902\n",
      "           1       0.89      0.98      0.93     54976\n",
      "\n",
      "    accuracy                           0.88     62878\n",
      "   macro avg       0.71      0.57      0.59     62878\n",
      "weighted avg       0.84      0.88      0.85     62878\n",
      "\n"
     ]
    }
   ],
   "source": [
    "# logistic regression object \n",
    "lr = LogisticRegression(solver='lbfgs', max_iter=400) \n",
    "  \n",
    "# train the model on train set \n",
    "lr.fit(X_train, y_train.ravel()) \n",
    "  \n",
    "predictions = lr.predict(X_test) \n",
    "  \n",
    "# print classification report \n",
    "print(classification_report(y_test, predictions)) "
   ]
  },
  {
   "cell_type": "code",
   "execution_count": 24,
   "id": "21f6025f",
   "metadata": {},
   "outputs": [
    {
     "name": "stdout",
     "output_type": "stream",
     "text": [
      "Before OverSampling, counts of label '1': 128455\n",
      "Before OverSampling, counts of label '0': 18260 \n",
      "\n",
      "After OverSampling, the shape of train_X: (256910, 32)\n",
      "After OverSampling, the shape of train_y: (256910,) \n",
      "\n",
      "After OverSampling, counts of label '1': 128455\n",
      "After OverSampling, counts of label '0': 128455\n"
     ]
    }
   ],
   "source": [
    "print(\"Before OverSampling, counts of label '1': {}\".format(sum(y_train == 1))) \n",
    "print(\"Before OverSampling, counts of label '0': {} \\n\".format(sum(y_train == 0))) \n",
    "  \n",
    "# import SMOTE module from imblearn library \n",
    "# pip install imblearn (if you don't have imblearn in your system) \n",
    "from imblearn.over_sampling import SMOTE \n",
    "sm = SMOTE(random_state = 2) \n",
    "X_train_res, y_train_res = sm.fit_resample(X_train, y_train.ravel()) \n",
    "  \n",
    "print('After OverSampling, the shape of train_X: {}'.format(X_train_res.shape)) \n",
    "print('After OverSampling, the shape of train_y: {} \\n'.format(y_train_res.shape)) \n",
    "  \n",
    "print(\"After OverSampling, counts of label '1': {}\".format(sum(y_train_res == 1))) \n",
    "print(\"After OverSampling, counts of label '0': {}\".format(sum(y_train_res == 0))) "
   ]
  },
  {
   "cell_type": "code",
   "execution_count": 25,
   "id": "558ba2b3",
   "metadata": {},
   "outputs": [],
   "source": [
    "lr1 = LogisticRegression(solver='lbfgs', max_iter=400) \n",
    "lr1.fit(X_train_res, y_train_res.ravel()) \n",
    "predictions = lr1.predict(X_test) "
   ]
  },
  {
   "cell_type": "code",
   "execution_count": 26,
   "id": "0e2b873c",
   "metadata": {},
   "outputs": [
    {
     "name": "stdout",
     "output_type": "stream",
     "text": [
      "[[ 5576  2326]\n",
      " [12775 42201]]\n",
      "              precision    recall  f1-score   support\n",
      "\n",
      "           0       0.30      0.71      0.42      7902\n",
      "           1       0.95      0.77      0.85     54976\n",
      "\n",
      "    accuracy                           0.76     62878\n",
      "   macro avg       0.63      0.74      0.64     62878\n",
      "weighted avg       0.87      0.76      0.80     62878\n",
      "\n"
     ]
    }
   ],
   "source": [
    "print(confusion_matrix(y_test,predictions))\n",
    "print(classification_report(y_test,predictions))"
   ]
  },
  {
   "cell_type": "code",
   "execution_count": 27,
   "id": "548e7a45",
   "metadata": {},
   "outputs": [
    {
     "data": {
      "image/png": "[encoded data removed]",
      "text/plain": [
       "<Figure size 432x288 with 1 Axes>"
      ]
     },
     "metadata": {
      "needs_background": "light"
     },
     "output_type": "display_data"
    }
   ],
   "source": [
    "plot_roc_curve(lr1, X_test, y_test) \n",
    "plt.show()      "
   ]
  },
  {
   "cell_type": "code",
   "execution_count": null,
   "id": "685990d6",
   "metadata": {},
   "outputs": [],
   "source": []
  },
  {
   "cell_type": "code",
   "execution_count": null,
   "id": "45202d51",
   "metadata": {},
   "outputs": [],
   "source": []
  },
  {
   "cell_type": "markdown",
   "id": "ef4adec6",
   "metadata": {},
   "source": [
    "# Decision Tree"
   ]
  },
  {
   "cell_type": "code",
   "execution_count": 28,
   "id": "e70d6d1d",
   "metadata": {},
   "outputs": [],
   "source": [
    "clf = DecisionTreeClassifier()\n",
    "clf = clf.fit(X_train_res,y_train_res)\n",
    "y_pred1 = clf.predict(X_test)"
   ]
  },
  {
   "cell_type": "code",
   "execution_count": 29,
   "id": "32aca5e1",
   "metadata": {},
   "outputs": [
    {
     "name": "stdout",
     "output_type": "stream",
     "text": [
      "[[ 4496  3406]\n",
      " [ 5842 49134]]\n",
      "              precision    recall  f1-score   support\n",
      "\n",
      "           0       0.43      0.57      0.49      7902\n",
      "           1       0.94      0.89      0.91     54976\n",
      "\n",
      "    accuracy                           0.85     62878\n",
      "   macro avg       0.69      0.73      0.70     62878\n",
      "weighted avg       0.87      0.85      0.86     62878\n",
      "\n"
     ]
    }
   ],
   "source": [
    "print(confusion_matrix(y_test,y_pred1))\n",
    "print(classification_report(y_test,y_pred1))"
   ]
  },
  {
   "cell_type": "code",
   "execution_count": 30,
   "id": "9ddddf0f",
   "metadata": {},
   "outputs": [
    {
     "data": {
      "image/png": "[encoded data removed]",
      "text/plain": [
       "<Figure size 432x288 with 1 Axes>"
      ]
     },
     "metadata": {
      "needs_background": "light"
     },
     "output_type": "display_data"
    }
   ],
   "source": [
    "plot_roc_curve(clf, X_test, y_test) \n",
    "plt.show()  "
   ]
  },
  {
   "cell_type": "code",
   "execution_count": null,
   "id": "ffd1f0fb",
   "metadata": {},
   "outputs": [],
   "source": []
  },
  {
   "cell_type": "code",
   "execution_count": null,
   "id": "7c93b88e",
   "metadata": {},
   "outputs": [],
   "source": []
  },
  {
   "cell_type": "markdown",
   "id": "0cd9a7dd",
   "metadata": {},
   "source": [
    "# Random Forest"
   ]
  },
  {
   "cell_type": "code",
   "execution_count": 31,
   "id": "cd3524f1",
   "metadata": {},
   "outputs": [],
   "source": [
    "rfc=RandomForestClassifier(n_estimators=200)\n",
    "rfc.fit(X_train_res,y_train_res)\n",
    "y_pred2=rfc.predict(X_test)"
   ]
  },
  {
   "cell_type": "code",
   "execution_count": 32,
   "id": "9dad88c2",
   "metadata": {},
   "outputs": [
    {
     "name": "stdout",
     "output_type": "stream",
     "text": [
      "[[ 4347  3555]\n",
      " [ 2635 52341]]\n",
      "              precision    recall  f1-score   support\n",
      "\n",
      "           0       0.62      0.55      0.58      7902\n",
      "           1       0.94      0.95      0.94     54976\n",
      "\n",
      "    accuracy                           0.90     62878\n",
      "   macro avg       0.78      0.75      0.76     62878\n",
      "weighted avg       0.90      0.90      0.90     62878\n",
      "\n"
     ]
    }
   ],
   "source": [
    "print(confusion_matrix(y_test,y_pred2))\n",
    "print(classification_report(y_test,y_pred2))"
   ]
  },
  {
   "cell_type": "code",
   "execution_count": 34,
   "id": "cb9006ab",
   "metadata": {},
   "outputs": [
    {
     "data": {
      "image/png": "[encoded data removed]",
      "text/plain": [
       "<Figure size 432x288 with 1 Axes>"
      ]
     },
     "metadata": {
      "needs_background": "light"
     },
     "output_type": "display_data"
    }
   ],
   "source": [
    "plot_roc_curve(rfc, X_test, y_test) \n",
    "plt.show()  "
   ]
  },
  {
   "cell_type": "code",
   "execution_count": null,
   "id": "9a167cee",
   "metadata": {},
   "outputs": [],
   "source": []
  },
  {
   "cell_type": "markdown",
   "id": "226fe298",
   "metadata": {},
   "source": [
    "# Save best the models"
   ]
  },
  {
   "cell_type": "code",
   "execution_count": 35,
   "id": "eea109e5",
   "metadata": {},
   "outputs": [],
   "source": [
    "import pickle\n",
    "\n",
    "with open('Micro Credit Project', 'wb') as file:\n",
    "    pickle.dump(rfc, file)"
   ]
  },
  {
   "cell_type": "code",
   "execution_count": null,
   "id": "17cbeb0a",
   "metadata": {},
   "outputs": [],
   "source": []
  },
  {
   "cell_type": "code",
   "execution_count": null,
   "id": "7533acf4",
   "metadata": {},
   "outputs": [],
   "source": []
  },
  {
   "cell_type": "code",
   "execution_count": null,
   "id": "20c9eedf",
   "metadata": {},
   "outputs": [],
   "source": []
  }
 ],
 "metadata": {
  "kernelspec": {
   "display_name": "Python 3",
   "language": "python",
   "name": "python3"
  },
  "language_info": {
   "codemirror_mode": {
    "name": "ipython",
    "version": 3
   },
   "file_extension": ".py",
   "mimetype": "text/x-python",
   "name": "python",
   "nbconvert_exporter": "python",
   "pygments_lexer": "ipython3",
   "version": "3.8.8"
  },
  "varInspector": {
   "cols": {
    "lenName": 16,
    "lenType": 16,
    "lenVar": 40
   },
   "kernels_config": {
    "python": {
     "delete_cmd_postfix": "",
     "delete_cmd_prefix": "del ",
     "library": "var_list.py",
     "varRefreshCmd": "print(var_dic_list())"
    },
    "r": {
     "delete_cmd_postfix": ") ",
     "delete_cmd_prefix": "rm(",
     "library": "var_list.r",
     "varRefreshCmd": "cat(var_dic_list()) "
    }
   },
   "types_to_exclude": [
    "module",
    "function",
    "builtin_function_or_method",
    "instance",
    "_Feature"
   ],
   "window_display": false
  }
 },
 "nbformat": 4,
 "nbformat_minor": 5
}
